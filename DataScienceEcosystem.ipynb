{
  "metadata": {
    "language_info": {
      "codemirror_mode": {
        "name": "python",
        "version": 3
      },
      "file_extension": ".py",
      "mimetype": "text/x-python",
      "name": "python",
      "nbconvert_exporter": "python",
      "pygments_lexer": "ipython3",
      "version": "3.8"
    },
    "kernelspec": {
      "name": "python",
      "display_name": "Python (Pyodide)",
      "language": "python"
    }
  },
  "nbformat_minor": 4,
  "nbformat": 4,
  "cells": [
    {
      "cell_type": "markdown",
      "source": "# Data Science Tools and Ecosystem #",
      "metadata": {}
    },
    {
      "cell_type": "markdown",
      "source": "In this notebook, Data Science Tools and Ecosystem are summarized.",
      "metadata": {}
    },
    {
      "cell_type": "markdown",
      "source": "**Objectives:**\n\n- List popular languages for Data Science\n- List of common libraries used in Data Science\n- List of Data Science Tools\n- Examples of arithmetic evalutation in Python",
      "metadata": {}
    },
    {
      "cell_type": "markdown",
      "source": "            Some of the popular languages that Data Scientists use are:\n    \n                1. Python\n                2. RStudio\n                3. SQL\n                4. Java\n                5. C++ etc.",
      "metadata": {}
    },
    {
      "cell_type": "markdown",
      "source": "            Some of the commonly used libraries used by Data Scientists include:\n    \n                1. Pandas\n                2. NumPy\n                3. SciPy\n                4. Matplotlib",
      "metadata": {}
    },
    {
      "cell_type": "markdown",
      "source": "  | Data Science Tools | \n  | -------------| \n  | RStudio |\n  | Apache Spark | \n  | TensorFLow | ",
      "metadata": {}
    },
    {
      "cell_type": "markdown",
      "source": "   ### Below are a few examples of evaluating arithmetic expressions in Python ###",
      "metadata": {}
    },
    {
      "cell_type": "markdown",
      "source": "This a simple arithmetic expression to mutiply then add integers",
      "metadata": {}
    },
    {
      "cell_type": "code",
      "source": "(3*4)+5",
      "metadata": {
        "trusted": true
      },
      "execution_count": 11,
      "outputs": [
        {
          "execution_count": 11,
          "output_type": "execute_result",
          "data": {
            "text/plain": "17"
          },
          "metadata": {}
        }
      ]
    },
    {
      "cell_type": "markdown",
      "source": "This will convert 200 minutes to hours by diving by 60",
      "metadata": {}
    },
    {
      "cell_type": "code",
      "source": "(200/60) ",
      "metadata": {
        "trusted": true
      },
      "execution_count": 10,
      "outputs": [
        {
          "execution_count": 10,
          "output_type": "execute_result",
          "data": {
            "text/plain": "3.3333333333333335"
          },
          "metadata": {}
        }
      ]
    },
    {
      "cell_type": "markdown",
      "source": "## Author: ##",
      "metadata": {}
    },
    {
      "cell_type": "markdown",
      "source": "Blonde_Ivy aka Athul G.",
      "metadata": {}
    }
  ]
}
